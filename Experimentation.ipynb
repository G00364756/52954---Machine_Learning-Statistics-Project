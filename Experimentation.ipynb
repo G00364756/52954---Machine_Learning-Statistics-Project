{
 "cells": [
  {
   "cell_type": "markdown",
   "metadata": {},
   "source": [
    "# Experimentation Boston House Prices - Aidan O'Connor - G00364756\n",
    "\n",
    "## Contents\n",
    "\n",
    "1.  Create Neural Network\n",
    "2.  Experiment with different Pre-processing Scalers"
   ]
  },
  {
   "cell_type": "code",
   "execution_count": 189,
   "metadata": {},
   "outputs": [],
   "source": [
    "# Loading Python packages.\n",
    "import sklearn as sk\n",
    "import pandas as pd\n",
    "import numpy as np\n",
    "import numpy.random as npr\n",
    "import seaborn as sns\n",
    "import matplotlib.pyplot as plt\n",
    "import sklearn.neighbors as nei\n",
    "import sklearn.model_selection as mod\n",
    "from sklearn.linear_model import LinearRegression\n",
    "from scipy.stats import median_test\n",
    "%matplotlib inline\n",
    "\n",
    "# Loading Boston House Prices Dataset from scikit-learn.\n",
    "# Adapted from:- [2](References) https://scikit-learn.org/stable/modules/generated/sklearn.datasets.load_boston.html\n",
    "from sklearn.datasets import load_boston\n",
    "boston = load_boston()"
   ]
  },
  {
   "cell_type": "markdown",
   "metadata": {},
   "source": [
    "### Extracting the dataset from the dictionary"
   ]
  },
  {
   "cell_type": "code",
   "execution_count": 190,
   "metadata": {},
   "outputs": [],
   "source": [
    "# Adapted from https://stackoverflow.com/questions/38105539/how-to-convert-a-scikit-learn-dataset-to-a-pandas-dataset\n",
    "# Need to convert the dataset to a pandas dataframe to perform exploratory analysis\n",
    "\n",
    "# Creating a dataframe from the boston house prices dictionary\n",
    "df = pd.DataFrame(boston.data, columns=boston.feature_names)\n",
    "\n",
    "# Appending the target \"MEDV\" to the dataframe, which represents the median house price in '000s.\n",
    "df['PRICE'] = (pd.Series(boston.target))"
   ]
  },
  {
   "cell_type": "code",
   "execution_count": 191,
   "metadata": {},
   "outputs": [
    {
     "name": "stdout",
     "output_type": "stream",
     "text": [
      ".. _boston_dataset:\n",
      "\n",
      "Boston house prices dataset\n",
      "---------------------------\n",
      "\n",
      "**Data Set Characteristics:**  \n",
      "\n",
      "    :Number of Instances: 506 \n",
      "\n",
      "    :Number of Attributes: 13 numeric/categorical predictive. Median Value (attribute 14) is usually the target.\n",
      "\n",
      "    :Attribute Information (in order):\n",
      "        - CRIM     per capita crime rate by town\n",
      "        - ZN       proportion of residential land zoned for lots over 25,000 sq.ft.\n",
      "        - INDUS    proportion of non-retail business acres per town\n",
      "        - CHAS     Charles River dummy variable (= 1 if tract bounds river; 0 otherwise)\n",
      "        - NOX      nitric oxides concentration (parts per 10 million)\n",
      "        - RM       average number of rooms per dwelling\n",
      "        - AGE      proportion of owner-occupied units built prior to 1940\n",
      "        - DIS      weighted distances to five Boston employment centres\n",
      "        - RAD      index of accessibility to radial highways\n",
      "        - TAX      full-value property-tax rate per $10,000\n",
      "        - PTRATIO  pupil-teacher ratio by town\n",
      "        - B        1000(Bk - 0.63)^2 where Bk is the proportion of blacks by town\n",
      "        - LSTAT    % lower status of the population\n",
      "        - MEDV     Median value of owner-occupied homes in $1000's\n",
      "\n",
      "    :Missing Attribute Values: None\n",
      "\n",
      "    :Creator: Harrison, D. and Rubinfeld, D.L.\n",
      "\n",
      "This is a copy of UCI ML housing dataset.\n",
      "https://archive.ics.uci.edu/ml/machine-learning-databases/housing/\n",
      "\n",
      "\n",
      "This dataset was taken from the StatLib library which is maintained at Carnegie Mellon University.\n",
      "\n",
      "The Boston house-price data of Harrison, D. and Rubinfeld, D.L. 'Hedonic\n",
      "prices and the demand for clean air', J. Environ. Economics & Management,\n",
      "vol.5, 81-102, 1978.   Used in Belsley, Kuh & Welsch, 'Regression diagnostics\n",
      "...', Wiley, 1980.   N.B. Various transformations are used in the table on\n",
      "pages 244-261 of the latter.\n",
      "\n",
      "The Boston house-price data has been used in many machine learning papers that address regression\n",
      "problems.   \n",
      "     \n",
      ".. topic:: References\n",
      "\n",
      "   - Belsley, Kuh & Welsch, 'Regression diagnostics: Identifying Influential Data and Sources of Collinearity', Wiley, 1980. 244-261.\n",
      "   - Quinlan,R. (1993). Combining Instance-Based and Model-Based Learning. In Proceedings on the Tenth International Conference of Machine Learning, 236-243, University of Massachusetts, Amherst. Morgan Kaufmann.\n",
      "\n"
     ]
    }
   ],
   "source": [
    "# Determining what the acronyms stand form in relation to this dataset by printing DESCR attribute.\n",
    "print(boston.DESCR)"
   ]
  },
  {
   "cell_type": "markdown",
   "metadata": {},
   "source": [
    "# Constructing the Neural Network Model"
   ]
  },
  {
   "cell_type": "code",
   "execution_count": 192,
   "metadata": {},
   "outputs": [],
   "source": [
    "# Adapted from:- https://keras.io/#getting-started-30-seconds-to-keras\n",
    "# and also from Dr. Ian McGloughlin's jupyter notebooks and lectures.\n",
    "\n",
    "# Importing Keras\n",
    "import keras as kr\n",
    "from sklearn import preprocessing as prep\n",
    "from sklearn import decomposition as dec"
   ]
  },
  {
   "cell_type": "code",
   "execution_count": 193,
   "metadata": {},
   "outputs": [],
   "source": [
    "#Adapted from: https://medium.com/themlblog/multivariate-regression-using-deep-neural-networks-in-tensorflow-f94f42a148b3\n",
    "\n",
    "# Set y to Price\n",
    "y = df['PRICE']\n",
    "\n",
    "# Set x to whole Boston House Prices Dataset minus the Price column\n",
    "x = df.drop(\"PRICE\",axis=1)"
   ]
  },
  {
   "cell_type": "markdown",
   "metadata": {},
   "source": [
    "### Split dataset into training and test subsets"
   ]
  },
  {
   "cell_type": "code",
   "execution_count": 227,
   "metadata": {},
   "outputs": [],
   "source": [
    "# Adapted from:- https://scikit-learn.org/stable/modules/generated/sklearn.model_selection.train_test_split.html\n",
    "# Adapted from:-Using a validation set - https://datascience.stackexchange.com/questions/18339/why-use-both-validation-set-and-test-set\n",
    "\n",
    "# Use scikit learn to split the dataset into a training set and a test set\n",
    "#x_train, x_test, y_train, y_test= mod.train_test_split(x, y, test_size=0.25, random_state=42)\n",
    "x_train, x_val_and_test, y_train, y_val_and_test = mod.train_test_split(x, y, test_size=0.3, random_state=42)\n",
    "x_val, x_test, y_val, y_test = mod.train_test_split(x_val_and_test, y_val_and_test, test_size=0.5)"
   ]
  },
  {
   "cell_type": "markdown",
   "metadata": {},
   "source": [
    "### Create the Neural Network and set its parameters"
   ]
  },
  {
   "cell_type": "code",
   "execution_count": 228,
   "metadata": {},
   "outputs": [],
   "source": [
    "# Adapted from:- https://keras.io/#getting-started-30-seconds-to-keras\n",
    "# and also from Dr. Ian McGloughlin's jupyter notebooks and lectures.\n",
    "\n",
    "# Create a neural network using keras\n",
    "m = kr.models.Sequential()\n",
    "\n",
    "# Add layers to of nurons to the network and add activation functions that are appropriate for the model\n",
    "m.add(kr.layers.Dense(100, input_dim=13, activation=\"softplus\"))\n",
    "m.add(kr.layers.Dense(50, input_dim=13, activation=\"softplus\"))\n",
    "m.add(kr.layers.Dense(20, input_dim=13, activation=\"softplus\"))\n",
    "m.add(kr.layers.Dense(1, input_dim=13, activation=\"linear\"))\n",
    "\n",
    "# Compile the neural network using a suitable optimiser to imporve the model each time it is trained\n",
    "m.compile(loss=\"mean_squared_logarithmic_error\", optimizer=\"adam\",  metrics=['accuracy'])"
   ]
  },
  {
   "cell_type": "markdown",
   "metadata": {},
   "source": [
    "### Train the Neural Network"
   ]
  },
  {
   "cell_type": "code",
   "execution_count": 229,
   "metadata": {},
   "outputs": [
    {
     "name": "stdout",
     "output_type": "stream",
     "text": [
      "Train on 354 samples, validate on 76 samples\n",
      "Epoch 1/100\n",
      "354/354 [==============================] - 1s 2ms/step - loss: 0.3871 - accuracy: 0.0056 - val_loss: 0.1331 - val_accuracy: 0.0132\n",
      "Epoch 2/100\n",
      "354/354 [==============================] - 0s 144us/step - loss: 0.1435 - accuracy: 0.0113 - val_loss: 0.0919 - val_accuracy: 0.0000e+00\n",
      "Epoch 3/100\n",
      "354/354 [==============================] - 0s 138us/step - loss: 0.1040 - accuracy: 0.0113 - val_loss: 0.0610 - val_accuracy: 0.0000e+00\n",
      "Epoch 4/100\n",
      "354/354 [==============================] - 0s 127us/step - loss: 0.1086 - accuracy: 0.0028 - val_loss: 0.0694 - val_accuracy: 0.0000e+00\n",
      "Epoch 5/100\n",
      "354/354 [==============================] - 0s 135us/step - loss: 0.1040 - accuracy: 0.0085 - val_loss: 0.0661 - val_accuracy: 0.0000e+00\n",
      "Epoch 6/100\n",
      "354/354 [==============================] - 0s 166us/step - loss: 0.1156 - accuracy: 0.0085 - val_loss: 0.0693 - val_accuracy: 0.0000e+00\n",
      "Epoch 7/100\n",
      "354/354 [==============================] - 0s 138us/step - loss: 0.1476 - accuracy: 0.0113 - val_loss: 0.0568 - val_accuracy: 0.0000e+00\n",
      "Epoch 8/100\n",
      "354/354 [==============================] - 0s 121us/step - loss: 0.1087 - accuracy: 0.0113 - val_loss: 0.0679 - val_accuracy: 0.0000e+00\n",
      "Epoch 9/100\n",
      "354/354 [==============================] - 0s 113us/step - loss: 0.1120 - accuracy: 0.0198 - val_loss: 0.0766 - val_accuracy: 0.0000e+00\n",
      "Epoch 10/100\n",
      "354/354 [==============================] - 0s 121us/step - loss: 0.0913 - accuracy: 0.0085 - val_loss: 0.0521 - val_accuracy: 0.0132\n",
      "Epoch 11/100\n",
      "354/354 [==============================] - 0s 124us/step - loss: 0.0946 - accuracy: 0.0085 - val_loss: 0.0521 - val_accuracy: 0.0000e+00\n",
      "Epoch 12/100\n",
      "354/354 [==============================] - 0s 149us/step - loss: 0.0835 - accuracy: 0.0028 - val_loss: 0.0432 - val_accuracy: 0.0263\n",
      "Epoch 13/100\n",
      "354/354 [==============================] - 0s 121us/step - loss: 0.0825 - accuracy: 0.0198 - val_loss: 0.0603 - val_accuracy: 0.0000e+00\n",
      "Epoch 14/100\n",
      "354/354 [==============================] - 0s 132us/step - loss: 0.0719 - accuracy: 0.0085 - val_loss: 0.0522 - val_accuracy: 0.0263\n",
      "Epoch 15/100\n",
      "354/354 [==============================] - 0s 132us/step - loss: 0.0738 - accuracy: 0.0113 - val_loss: 0.0504 - val_accuracy: 0.0000e+00\n",
      "Epoch 16/100\n",
      "354/354 [==============================] - 0s 132us/step - loss: 0.0729 - accuracy: 0.0113 - val_loss: 0.0504 - val_accuracy: 0.0263\n",
      "Epoch 17/100\n",
      "354/354 [==============================] - 0s 116us/step - loss: 0.0675 - accuracy: 0.0056 - val_loss: 0.0545 - val_accuracy: 0.0132\n",
      "Epoch 18/100\n",
      "354/354 [==============================] - 0s 135us/step - loss: 0.0735 - accuracy: 0.0056 - val_loss: 0.0453 - val_accuracy: 0.0000e+00\n",
      "Epoch 19/100\n",
      "354/354 [==============================] - 0s 130us/step - loss: 0.0674 - accuracy: 0.0113 - val_loss: 0.0459 - val_accuracy: 0.0132\n",
      "Epoch 20/100\n",
      "354/354 [==============================] - 0s 138us/step - loss: 0.0668 - accuracy: 0.0028 - val_loss: 0.0361 - val_accuracy: 0.0132\n",
      "Epoch 21/100\n",
      "354/354 [==============================] - 0s 127us/step - loss: 0.0821 - accuracy: 0.0113 - val_loss: 0.0558 - val_accuracy: 0.0132\n",
      "Epoch 22/100\n",
      "354/354 [==============================] - 0s 138us/step - loss: 0.0710 - accuracy: 0.0000e+00 - val_loss: 0.0433 - val_accuracy: 0.0132\n",
      "Epoch 23/100\n",
      "354/354 [==============================] - 0s 127us/step - loss: 0.0578 - accuracy: 0.0056 - val_loss: 0.0597 - val_accuracy: 0.0000e+00\n",
      "Epoch 24/100\n",
      "354/354 [==============================] - 0s 118us/step - loss: 0.0581 - accuracy: 0.0000e+00 - val_loss: 0.0457 - val_accuracy: 0.0132\n",
      "Epoch 25/100\n",
      "354/354 [==============================] - 0s 141us/step - loss: 0.0841 - accuracy: 0.0113 - val_loss: 0.0708 - val_accuracy: 0.0132\n",
      "Epoch 26/100\n",
      "354/354 [==============================] - 0s 130us/step - loss: 0.0664 - accuracy: 0.0000e+00 - val_loss: 0.0550 - val_accuracy: 0.0263\n",
      "Epoch 27/100\n",
      "354/354 [==============================] - 0s 116us/step - loss: 0.0695 - accuracy: 0.0141 - val_loss: 0.0527 - val_accuracy: 0.0000e+00\n",
      "Epoch 28/100\n",
      "354/354 [==============================] - 0s 138us/step - loss: 0.0622 - accuracy: 0.0056 - val_loss: 0.0527 - val_accuracy: 0.0000e+00\n",
      "Epoch 29/100\n",
      "354/354 [==============================] - 0s 127us/step - loss: 0.0592 - accuracy: 0.0113 - val_loss: 0.0681 - val_accuracy: 0.0000e+00\n",
      "Epoch 30/100\n",
      "354/354 [==============================] - 0s 130us/step - loss: 0.0743 - accuracy: 0.0113 - val_loss: 0.0633 - val_accuracy: 0.0000e+00\n",
      "Epoch 31/100\n",
      "354/354 [==============================] - 0s 124us/step - loss: 0.0572 - accuracy: 0.0085 - val_loss: 0.0386 - val_accuracy: 0.0000e+00\n",
      "Epoch 32/100\n",
      "354/354 [==============================] - 0s 141us/step - loss: 0.0738 - accuracy: 0.0056 - val_loss: 0.0563 - val_accuracy: 0.0132\n",
      "Epoch 33/100\n",
      "354/354 [==============================] - 0s 124us/step - loss: 0.0824 - accuracy: 0.0056 - val_loss: 0.0689 - val_accuracy: 0.0000e+00\n",
      "Epoch 34/100\n",
      "354/354 [==============================] - 0s 141us/step - loss: 0.0946 - accuracy: 0.0000e+00 - val_loss: 0.0490 - val_accuracy: 0.0132\n",
      "Epoch 35/100\n",
      "354/354 [==============================] - 0s 130us/step - loss: 0.0725 - accuracy: 0.0056 - val_loss: 0.1255 - val_accuracy: 0.0000e+00\n",
      "Epoch 36/100\n",
      "354/354 [==============================] - 0s 144us/step - loss: 0.1249 - accuracy: 0.0056 - val_loss: 0.0399 - val_accuracy: 0.0000e+00\n",
      "Epoch 37/100\n",
      "354/354 [==============================] - 0s 135us/step - loss: 0.0654 - accuracy: 0.0169 - val_loss: 0.0444 - val_accuracy: 0.0000e+00\n",
      "Epoch 38/100\n",
      "354/354 [==============================] - 0s 124us/step - loss: 0.0599 - accuracy: 0.0085 - val_loss: 0.0518 - val_accuracy: 0.0132\n",
      "Epoch 39/100\n",
      "354/354 [==============================] - 0s 130us/step - loss: 0.0634 - accuracy: 0.0056 - val_loss: 0.0646 - val_accuracy: 0.0000e+00\n",
      "Epoch 40/100\n",
      "354/354 [==============================] - 0s 121us/step - loss: 0.0720 - accuracy: 0.0169 - val_loss: 0.0380 - val_accuracy: 0.0000e+00\n",
      "Epoch 41/100\n",
      "354/354 [==============================] - 0s 116us/step - loss: 0.0635 - accuracy: 0.0113 - val_loss: 0.0472 - val_accuracy: 0.0000e+00\n",
      "Epoch 42/100\n",
      "354/354 [==============================] - 0s 127us/step - loss: 0.0603 - accuracy: 0.0113 - val_loss: 0.0452 - val_accuracy: 0.0132\n",
      "Epoch 43/100\n",
      "354/354 [==============================] - 0s 132us/step - loss: 0.0498 - accuracy: 0.0113 - val_loss: 0.0539 - val_accuracy: 0.0132\n",
      "Epoch 44/100\n",
      "354/354 [==============================] - 0s 113us/step - loss: 0.0520 - accuracy: 0.0056 - val_loss: 0.0471 - val_accuracy: 0.0000e+00\n",
      "Epoch 45/100\n",
      "354/354 [==============================] - 0s 124us/step - loss: 0.0505 - accuracy: 0.0028 - val_loss: 0.0374 - val_accuracy: 0.0000e+00\n",
      "Epoch 46/100\n",
      "354/354 [==============================] - 0s 127us/step - loss: 0.0482 - accuracy: 0.0056 - val_loss: 0.0319 - val_accuracy: 0.0000e+00\n",
      "Epoch 47/100\n",
      "354/354 [==============================] - 0s 138us/step - loss: 0.0518 - accuracy: 0.0028 - val_loss: 0.0387 - val_accuracy: 0.0132\n",
      "Epoch 48/100\n",
      "354/354 [==============================] - 0s 118us/step - loss: 0.0450 - accuracy: 0.0113 - val_loss: 0.0370 - val_accuracy: 0.0132\n",
      "Epoch 49/100\n",
      "354/354 [==============================] - 0s 113us/step - loss: 0.0494 - accuracy: 0.0028 - val_loss: 0.0419 - val_accuracy: 0.0132\n",
      "Epoch 50/100\n",
      "354/354 [==============================] - 0s 130us/step - loss: 0.0776 - accuracy: 0.0056 - val_loss: 0.0545 - val_accuracy: 0.0132\n",
      "Epoch 51/100\n",
      "354/354 [==============================] - 0s 124us/step - loss: 0.0754 - accuracy: 0.0169 - val_loss: 0.0317 - val_accuracy: 0.0000e+00\n",
      "Epoch 52/100\n",
      "354/354 [==============================] - 0s 152us/step - loss: 0.0617 - accuracy: 0.0028 - val_loss: 0.0706 - val_accuracy: 0.0132\n",
      "Epoch 53/100\n",
      "354/354 [==============================] - 0s 121us/step - loss: 0.0569 - accuracy: 0.0141 - val_loss: 0.0450 - val_accuracy: 0.0263\n",
      "Epoch 54/100\n",
      "354/354 [==============================] - 0s 124us/step - loss: 0.0491 - accuracy: 0.0085 - val_loss: 0.0514 - val_accuracy: 0.0132\n",
      "Epoch 55/100\n",
      "354/354 [==============================] - 0s 116us/step - loss: 0.0506 - accuracy: 0.0085 - val_loss: 0.0584 - val_accuracy: 0.0000e+00\n"
     ]
    },
    {
     "name": "stdout",
     "output_type": "stream",
     "text": [
      "Epoch 56/100\n",
      "354/354 [==============================] - 0s 124us/step - loss: 0.0467 - accuracy: 0.0085 - val_loss: 0.0403 - val_accuracy: 0.0132\n",
      "Epoch 57/100\n",
      "354/354 [==============================] - 0s 118us/step - loss: 0.0467 - accuracy: 0.0056 - val_loss: 0.0614 - val_accuracy: 0.0000e+00\n",
      "Epoch 58/100\n",
      "354/354 [==============================] - 0s 110us/step - loss: 0.0639 - accuracy: 0.0056 - val_loss: 0.0404 - val_accuracy: 0.0132\n",
      "Epoch 59/100\n",
      "354/354 [==============================] - 0s 116us/step - loss: 0.0472 - accuracy: 0.0169 - val_loss: 0.0390 - val_accuracy: 0.0132\n",
      "Epoch 60/100\n",
      "354/354 [==============================] - 0s 121us/step - loss: 0.0449 - accuracy: 0.0198 - val_loss: 0.0506 - val_accuracy: 0.0263\n",
      "Epoch 61/100\n",
      "354/354 [==============================] - 0s 118us/step - loss: 0.0421 - accuracy: 0.0056 - val_loss: 0.0435 - val_accuracy: 0.0132\n",
      "Epoch 62/100\n",
      "354/354 [==============================] - 0s 110us/step - loss: 0.0429 - accuracy: 0.0113 - val_loss: 0.0416 - val_accuracy: 0.0263\n",
      "Epoch 63/100\n",
      "354/354 [==============================] - 0s 132us/step - loss: 0.0436 - accuracy: 0.0141 - val_loss: 0.0459 - val_accuracy: 0.0263\n",
      "Epoch 64/100\n",
      "354/354 [==============================] - ETA: 0s - loss: 0.0878 - accuracy: 0.0000e+ - 0s 118us/step - loss: 0.0593 - accuracy: 0.0056 - val_loss: 0.0607 - val_accuracy: 0.0132\n",
      "Epoch 65/100\n",
      "354/354 [==============================] - 0s 242us/step - loss: 0.0611 - accuracy: 0.0085 - val_loss: 0.0310 - val_accuracy: 0.0000e+00\n",
      "Epoch 66/100\n",
      "354/354 [==============================] - 0s 141us/step - loss: 0.0407 - accuracy: 0.0169 - val_loss: 0.0438 - val_accuracy: 0.0000e+00\n",
      "Epoch 67/100\n",
      "354/354 [==============================] - 0s 118us/step - loss: 0.0420 - accuracy: 0.0141 - val_loss: 0.0563 - val_accuracy: 0.0132\n",
      "Epoch 68/100\n",
      "354/354 [==============================] - 0s 121us/step - loss: 0.0412 - accuracy: 0.0254 - val_loss: 0.0605 - val_accuracy: 0.0263\n",
      "Epoch 69/100\n",
      "354/354 [==============================] - 0s 116us/step - loss: 0.0501 - accuracy: 0.0028 - val_loss: 0.0477 - val_accuracy: 0.0263\n",
      "Epoch 70/100\n",
      "354/354 [==============================] - 0s 127us/step - loss: 0.0453 - accuracy: 0.0056 - val_loss: 0.0395 - val_accuracy: 0.0000e+00\n",
      "Epoch 71/100\n",
      "354/354 [==============================] - 0s 116us/step - loss: 0.0482 - accuracy: 0.0056 - val_loss: 0.0382 - val_accuracy: 0.0263\n",
      "Epoch 72/100\n",
      "354/354 [==============================] - 0s 118us/step - loss: 0.0481 - accuracy: 0.0141 - val_loss: 0.0431 - val_accuracy: 0.0000e+00\n",
      "Epoch 73/100\n",
      "354/354 [==============================] - 0s 124us/step - loss: 0.0429 - accuracy: 0.0113 - val_loss: 0.0331 - val_accuracy: 0.0000e+00\n",
      "Epoch 74/100\n",
      "354/354 [==============================] - 0s 110us/step - loss: 0.0400 - accuracy: 0.0198 - val_loss: 0.0459 - val_accuracy: 0.0132\n",
      "Epoch 75/100\n",
      "354/354 [==============================] - 0s 121us/step - loss: 0.0522 - accuracy: 0.0113 - val_loss: 0.0730 - val_accuracy: 0.0000e+00\n",
      "Epoch 76/100\n",
      "354/354 [==============================] - 0s 121us/step - loss: 0.0660 - accuracy: 0.0085 - val_loss: 0.0520 - val_accuracy: 0.0000e+00\n",
      "Epoch 77/100\n",
      "354/354 [==============================] - 0s 110us/step - loss: 0.0493 - accuracy: 0.0085 - val_loss: 0.0383 - val_accuracy: 0.0132\n",
      "Epoch 78/100\n",
      "354/354 [==============================] - 0s 118us/step - loss: 0.0431 - accuracy: 0.0169 - val_loss: 0.0419 - val_accuracy: 0.0132\n",
      "Epoch 79/100\n",
      "354/354 [==============================] - 0s 121us/step - loss: 0.0373 - accuracy: 0.0141 - val_loss: 0.0352 - val_accuracy: 0.0000e+00\n",
      "Epoch 80/100\n",
      "354/354 [==============================] - 0s 118us/step - loss: 0.0430 - accuracy: 0.0056 - val_loss: 0.0362 - val_accuracy: 0.0000e+00\n",
      "Epoch 81/100\n",
      "354/354 [==============================] - 0s 113us/step - loss: 0.0543 - accuracy: 0.0198 - val_loss: 0.0496 - val_accuracy: 0.0263\n",
      "Epoch 82/100\n",
      "354/354 [==============================] - 0s 121us/step - loss: 0.0590 - accuracy: 0.0028 - val_loss: 0.0560 - val_accuracy: 0.0132\n",
      "Epoch 83/100\n",
      "354/354 [==============================] - 0s 124us/step - loss: 0.0491 - accuracy: 0.0113 - val_loss: 0.0541 - val_accuracy: 0.0000e+00\n",
      "Epoch 84/100\n",
      "354/354 [==============================] - 0s 127us/step - loss: 0.0571 - accuracy: 0.0141 - val_loss: 0.0545 - val_accuracy: 0.0263\n",
      "Epoch 85/100\n",
      "354/354 [==============================] - 0s 118us/step - loss: 0.0444 - accuracy: 0.0169 - val_loss: 0.0605 - val_accuracy: 0.0000e+00\n",
      "Epoch 86/100\n",
      "354/354 [==============================] - 0s 135us/step - loss: 0.0390 - accuracy: 0.0113 - val_loss: 0.0305 - val_accuracy: 0.0132\n",
      "Epoch 87/100\n",
      "354/354 [==============================] - 0s 146us/step - loss: 0.0380 - accuracy: 0.0085 - val_loss: 0.0308 - val_accuracy: 0.0263\n",
      "Epoch 88/100\n",
      "354/354 [==============================] - 0s 217us/step - loss: 0.0343 - accuracy: 0.0056 - val_loss: 0.0358 - val_accuracy: 0.0000e+00\n",
      "Epoch 89/100\n",
      "354/354 [==============================] - 0s 135us/step - loss: 0.0404 - accuracy: 0.0113 - val_loss: 0.0325 - val_accuracy: 0.0132\n",
      "Epoch 90/100\n",
      "354/354 [==============================] - 0s 116us/step - loss: 0.0418 - accuracy: 0.0141 - val_loss: 0.0416 - val_accuracy: 0.0263\n",
      "Epoch 91/100\n",
      "354/354 [==============================] - 0s 116us/step - loss: 0.0377 - accuracy: 0.0169 - val_loss: 0.0417 - val_accuracy: 0.0132\n",
      "Epoch 92/100\n",
      "354/354 [==============================] - 0s 116us/step - loss: 0.0403 - accuracy: 0.0113 - val_loss: 0.0468 - val_accuracy: 0.0000e+00\n",
      "Epoch 93/100\n",
      "354/354 [==============================] - 0s 138us/step - loss: 0.0433 - accuracy: 0.0085 - val_loss: 0.0389 - val_accuracy: 0.0263\n",
      "Epoch 94/100\n",
      "354/354 [==============================] - 0s 124us/step - loss: 0.0410 - accuracy: 0.0113 - val_loss: 0.0444 - val_accuracy: 0.0263\n",
      "Epoch 95/100\n",
      "354/354 [==============================] - 0s 127us/step - loss: 0.0385 - accuracy: 0.0113 - val_loss: 0.0349 - val_accuracy: 0.0000e+00\n",
      "Epoch 96/100\n",
      "354/354 [==============================] - 0s 121us/step - loss: 0.0395 - accuracy: 0.0141 - val_loss: 0.0393 - val_accuracy: 0.0132\n",
      "Epoch 97/100\n",
      "354/354 [==============================] - 0s 118us/step - loss: 0.0450 - accuracy: 0.0085 - val_loss: 0.0441 - val_accuracy: 0.0000e+00\n",
      "Epoch 98/100\n",
      "354/354 [==============================] - 0s 116us/step - loss: 0.0480 - accuracy: 0.0028 - val_loss: 0.0339 - val_accuracy: 0.0132\n",
      "Epoch 99/100\n",
      "354/354 [==============================] - 0s 127us/step - loss: 0.0400 - accuracy: 0.0056 - val_loss: 0.0428 - val_accuracy: 0.0000e+00\n",
      "Epoch 100/100\n",
      "354/354 [==============================] - 0s 124us/step - loss: 0.0339 - accuracy: 0.0169 - val_loss: 0.0349 - val_accuracy: 0.0132\n"
     ]
    }
   ],
   "source": [
    "# Train the neural network.\n",
    "boston_model = m.fit(x_train, y_train, epochs=100, batch_size=20, validation_data=(x_val,y_val))"
   ]
  },
  {
   "cell_type": "markdown",
   "metadata": {},
   "source": [
    "### Use the Neural Network model to predict the values for the test subset and evaluate the model"
   ]
  },
  {
   "cell_type": "code",
   "execution_count": 230,
   "metadata": {},
   "outputs": [
    {
     "name": "stdout",
     "output_type": "stream",
     "text": [
      "76/76 [==============================] - 0s 65us/step\n",
      "\n",
      "Loss is:  0.03923933443270231 \n",
      "Accuracy is:  0.01315789483487606\n"
     ]
    }
   ],
   "source": [
    "# Run each x test value through the neural network. (Not using this currently but can print out the values of p_test if you want)\n",
    "p_test = m.predict(x_test)\n",
    "#p_test\n",
    "\n",
    "# Evaluate the prediction - The first element is the loss, the second element is the accuracy\n",
    "Eval = m.evaluate(x_test, y_test)\n",
    "print(\"\\nLoss is: \", Eval[0], \"\\nAccuracy is: \", Eval[1])"
   ]
  },
  {
   "cell_type": "markdown",
   "metadata": {},
   "source": [
    "### Determining whether Overfitting is occuring and determing the accuracy of the model"
   ]
  },
  {
   "cell_type": "markdown",
   "metadata": {},
   "source": [
    "#### Graphing the training loss vs the validation loss"
   ]
  },
  {
   "cell_type": "code",
   "execution_count": 231,
   "metadata": {},
   "outputs": [
    {
     "data": {
      "image/png": "[encoded data removed]",
      "text/plain": [
       "<Figure size 432x288 with 1 Axes>"
      ]
     },
     "metadata": {
      "needs_background": "light"
     },
     "output_type": "display_data"
    }
   ],
   "source": [
    "#Adapted from: https://hackernoon.com/build-your-first-neural-network-to-predict-house-prices-with-keras-3fb0839680f4\n",
    "\n",
    "plt.plot(boston_model.history['loss'])\n",
    "plt.plot(boston_model.history['val_loss'])\n",
    "plt.title('Model loss')\n",
    "plt.ylabel('Loss')\n",
    "plt.xlabel('Epoch')\n",
    "plt.ylim(0, 0.5)\n",
    "plt.legend(['Train', 'Val'], loc='upper right')\n",
    "plt.show()"
   ]
  },
  {
   "cell_type": "markdown",
   "metadata": {},
   "source": [
    "#### Accuracy of the model"
   ]
  },
  {
   "cell_type": "code",
   "execution_count": 232,
   "metadata": {},
   "outputs": [
    {
     "data": {
      "image/png": "[encoded data removed]",
      "text/plain": [
       "<Figure size 432x288 with 1 Axes>"
      ]
     },
     "metadata": {
      "needs_background": "light"
     },
     "output_type": "display_data"
    }
   ],
   "source": [
    "plt.plot(boston_model.history['accuracy'])\n",
    "plt.plot(boston_model.history['val_accuracy'])\n",
    "plt.title('Model accuracy')\n",
    "plt.ylabel('Accuracy')\n",
    "plt.xlabel('Epoch')\n",
    "plt.legend(['Train', 'Val'], loc='lower right')\n",
    "plt.show()"
   ]
  },
  {
   "cell_type": "markdown",
   "metadata": {},
   "source": [
    "## Trying to improve the Neural Network Model\n",
    "### Scaling"
   ]
  },
  {
   "cell_type": "code",
   "execution_count": 233,
   "metadata": {},
   "outputs": [],
   "source": [
    "# Adapted from https://scikit-learn.org/stable/modules/preprocessing.html#preprocessing\n",
    "\n",
    "# Initiating the preprocessing scaler\n",
    "scaler = prep.StandardScaler()\n",
    "scaler.fit(x_train)\n",
    "\n",
    "# Normalising the x train subset\n",
    "x_train_scaled = pd.DataFrame(scaler.transform(x_train), columns=x.columns)\n",
    "\n",
    "# Normalising the x test subset\n",
    "x_test_scaled = pd.DataFrame(scaler.transform(x_test), columns=x.columns)\n",
    "\n",
    "# Normalising the x validation subset\n",
    "x_val_scaled = pd.DataFrame(scaler.transform(x_val), columns=x.columns)"
   ]
  },
  {
   "cell_type": "markdown",
   "metadata": {},
   "source": [
    "#### Fit the scaled data to the model"
   ]
  },
  {
   "cell_type": "code",
   "execution_count": 234,
   "metadata": {},
   "outputs": [
    {
     "name": "stdout",
     "output_type": "stream",
     "text": [
      "Train on 354 samples, validate on 76 samples\n",
      "Epoch 1/100\n",
      "354/354 [==============================] - 0s 144us/step - loss: 1.2532 - accuracy: 0.0028 - val_loss: 0.1712 - val_accuracy: 0.0000e+00\n",
      "Epoch 2/100\n",
      "354/354 [==============================] - 0s 127us/step - loss: 0.2126 - accuracy: 0.0056 - val_loss: 0.0777 - val_accuracy: 0.0000e+00\n",
      "Epoch 3/100\n",
      "354/354 [==============================] - 0s 116us/step - loss: 0.0711 - accuracy: 0.0028 - val_loss: 0.0520 - val_accuracy: 0.0132\n",
      "Epoch 4/100\n",
      "354/354 [==============================] - 0s 130us/step - loss: 0.0574 - accuracy: 0.0113 - val_loss: 0.0438 - val_accuracy: 0.0000e+00\n",
      "Epoch 5/100\n",
      "354/354 [==============================] - 0s 127us/step - loss: 0.0506 - accuracy: 0.0085 - val_loss: 0.0419 - val_accuracy: 0.0000e+00\n",
      "Epoch 6/100\n",
      "354/354 [==============================] - 0s 127us/step - loss: 0.0475 - accuracy: 0.0085 - val_loss: 0.0394 - val_accuracy: 0.0000e+00\n",
      "Epoch 7/100\n",
      "354/354 [==============================] - 0s 135us/step - loss: 0.0450 - accuracy: 0.0141 - val_loss: 0.0379 - val_accuracy: 0.0000e+00\n",
      "Epoch 8/100\n",
      "354/354 [==============================] - 0s 124us/step - loss: 0.0429 - accuracy: 0.0085 - val_loss: 0.0370 - val_accuracy: 0.0000e+00\n",
      "Epoch 9/100\n",
      "354/354 [==============================] - 0s 127us/step - loss: 0.0410 - accuracy: 0.0113 - val_loss: 0.0353 - val_accuracy: 0.0000e+00\n",
      "Epoch 10/100\n",
      "354/354 [==============================] - 0s 116us/step - loss: 0.0395 - accuracy: 0.0169 - val_loss: 0.0347 - val_accuracy: 0.0000e+00\n",
      "Epoch 11/100\n",
      "354/354 [==============================] - 0s 135us/step - loss: 0.0384 - accuracy: 0.0141 - val_loss: 0.0347 - val_accuracy: 0.0132\n",
      "Epoch 12/100\n",
      "354/354 [==============================] - 0s 127us/step - loss: 0.0371 - accuracy: 0.0141 - val_loss: 0.0336 - val_accuracy: 0.0132\n",
      "Epoch 13/100\n",
      "354/354 [==============================] - 0s 121us/step - loss: 0.0362 - accuracy: 0.0141 - val_loss: 0.0331 - val_accuracy: 0.0000e+00\n",
      "Epoch 14/100\n",
      "354/354 [==============================] - 0s 132us/step - loss: 0.0354 - accuracy: 0.0113 - val_loss: 0.0328 - val_accuracy: 0.0000e+00\n",
      "Epoch 15/100\n",
      "354/354 [==============================] - 0s 127us/step - loss: 0.0346 - accuracy: 0.0085 - val_loss: 0.0319 - val_accuracy: 0.0000e+00\n",
      "Epoch 16/100\n",
      "354/354 [==============================] - 0s 118us/step - loss: 0.0339 - accuracy: 0.0141 - val_loss: 0.0320 - val_accuracy: 0.0000e+00\n",
      "Epoch 17/100\n",
      "354/354 [==============================] - 0s 127us/step - loss: 0.0333 - accuracy: 0.0113 - val_loss: 0.0320 - val_accuracy: 0.0000e+00\n",
      "Epoch 18/100\n",
      "354/354 [==============================] - 0s 130us/step - loss: 0.0327 - accuracy: 0.0113 - val_loss: 0.0320 - val_accuracy: 0.0000e+00\n",
      "Epoch 19/100\n",
      "354/354 [==============================] - 0s 141us/step - loss: 0.0323 - accuracy: 0.0141 - val_loss: 0.0315 - val_accuracy: 0.0000e+00\n",
      "Epoch 20/100\n",
      "354/354 [==============================] - 0s 132us/step - loss: 0.0318 - accuracy: 0.0141 - val_loss: 0.0314 - val_accuracy: 0.0000e+00\n",
      "Epoch 21/100\n",
      "354/354 [==============================] - 0s 130us/step - loss: 0.0314 - accuracy: 0.0141 - val_loss: 0.0310 - val_accuracy: 0.0000e+00\n",
      "Epoch 22/100\n",
      "354/354 [==============================] - 0s 135us/step - loss: 0.0310 - accuracy: 0.0113 - val_loss: 0.0308 - val_accuracy: 0.0000e+00\n",
      "Epoch 23/100\n",
      "354/354 [==============================] - 0s 135us/step - loss: 0.0306 - accuracy: 0.0169 - val_loss: 0.0309 - val_accuracy: 0.0000e+00\n",
      "Epoch 24/100\n",
      "354/354 [==============================] - 0s 124us/step - loss: 0.0304 - accuracy: 0.0141 - val_loss: 0.0313 - val_accuracy: 0.0000e+00\n",
      "Epoch 25/100\n",
      "354/354 [==============================] - 0s 135us/step - loss: 0.0300 - accuracy: 0.0141 - val_loss: 0.0307 - val_accuracy: 0.0000e+00\n",
      "Epoch 26/100\n",
      "354/354 [==============================] - 0s 132us/step - loss: 0.0299 - accuracy: 0.0169 - val_loss: 0.0309 - val_accuracy: 0.0000e+00\n",
      "Epoch 27/100\n",
      "354/354 [==============================] - 0s 130us/step - loss: 0.0294 - accuracy: 0.0198 - val_loss: 0.0300 - val_accuracy: 0.0000e+00\n",
      "Epoch 28/100\n",
      "354/354 [==============================] - 0s 149us/step - loss: 0.0293 - accuracy: 0.0141 - val_loss: 0.0305 - val_accuracy: 0.0000e+00\n",
      "Epoch 29/100\n",
      "354/354 [==============================] - 0s 132us/step - loss: 0.0290 - accuracy: 0.0198 - val_loss: 0.0298 - val_accuracy: 0.0000e+00\n",
      "Epoch 30/100\n",
      "354/354 [==============================] - 0s 130us/step - loss: 0.0289 - accuracy: 0.0169 - val_loss: 0.0296 - val_accuracy: 0.0000e+00\n",
      "Epoch 31/100\n",
      "354/354 [==============================] - 0s 127us/step - loss: 0.0286 - accuracy: 0.0169 - val_loss: 0.0301 - val_accuracy: 0.0000e+00\n",
      "Epoch 32/100\n",
      "354/354 [==============================] - 0s 138us/step - loss: 0.0284 - accuracy: 0.0113 - val_loss: 0.0301 - val_accuracy: 0.0000e+00\n",
      "Epoch 33/100\n",
      "354/354 [==============================] - 0s 130us/step - loss: 0.0284 - accuracy: 0.0141 - val_loss: 0.0302 - val_accuracy: 0.0000e+00\n",
      "Epoch 34/100\n",
      "354/354 [==============================] - 0s 138us/step - loss: 0.0282 - accuracy: 0.0113 - val_loss: 0.0287 - val_accuracy: 0.0000e+00\n",
      "Epoch 35/100\n",
      "354/354 [==============================] - 0s 132us/step - loss: 0.0278 - accuracy: 0.0085 - val_loss: 0.0293 - val_accuracy: 0.0000e+00\n",
      "Epoch 36/100\n",
      "354/354 [==============================] - 0s 130us/step - loss: 0.0276 - accuracy: 0.0141 - val_loss: 0.0293 - val_accuracy: 0.0000e+00\n",
      "Epoch 37/100\n",
      "354/354 [==============================] - 0s 127us/step - loss: 0.0274 - accuracy: 0.0113 - val_loss: 0.0287 - val_accuracy: 0.0000e+00\n",
      "Epoch 38/100\n",
      "354/354 [==============================] - 0s 147us/step - loss: 0.0273 - accuracy: 0.0141 - val_loss: 0.0289 - val_accuracy: 0.0000e+00\n",
      "Epoch 39/100\n",
      "354/354 [==============================] - 0s 118us/step - loss: 0.0275 - accuracy: 0.0141 - val_loss: 0.0294 - val_accuracy: 0.0000e+00\n",
      "Epoch 40/100\n",
      "354/354 [==============================] - 0s 132us/step - loss: 0.0271 - accuracy: 0.0085 - val_loss: 0.0282 - val_accuracy: 0.0000e+00\n",
      "Epoch 41/100\n",
      "354/354 [==============================] - 0s 124us/step - loss: 0.0268 - accuracy: 0.0113 - val_loss: 0.0289 - val_accuracy: 0.0000e+00\n",
      "Epoch 42/100\n",
      "354/354 [==============================] - 0s 132us/step - loss: 0.0266 - accuracy: 0.0141 - val_loss: 0.0287 - val_accuracy: 0.0000e+00\n",
      "Epoch 43/100\n",
      "354/354 [==============================] - 0s 127us/step - loss: 0.0267 - accuracy: 0.0141 - val_loss: 0.0286 - val_accuracy: 0.0132\n",
      "Epoch 44/100\n",
      "354/354 [==============================] - 0s 138us/step - loss: 0.0264 - accuracy: 0.0141 - val_loss: 0.0284 - val_accuracy: 0.0000e+00\n",
      "Epoch 45/100\n",
      "354/354 [==============================] - 0s 127us/step - loss: 0.0262 - accuracy: 0.0141 - val_loss: 0.0280 - val_accuracy: 0.0000e+00\n",
      "Epoch 46/100\n",
      "354/354 [==============================] - 0s 132us/step - loss: 0.0264 - accuracy: 0.0113 - val_loss: 0.0284 - val_accuracy: 0.0132\n",
      "Epoch 47/100\n",
      "354/354 [==============================] - 0s 127us/step - loss: 0.0267 - accuracy: 0.0113 - val_loss: 0.0272 - val_accuracy: 0.0000e+00\n",
      "Epoch 48/100\n",
      "354/354 [==============================] - 0s 152us/step - loss: 0.0261 - accuracy: 0.0085 - val_loss: 0.0289 - val_accuracy: 0.0132\n",
      "Epoch 49/100\n",
      "354/354 [==============================] - 0s 124us/step - loss: 0.0261 - accuracy: 0.0085 - val_loss: 0.0273 - val_accuracy: 0.0000e+00\n",
      "Epoch 50/100\n",
      "354/354 [==============================] - 0s 116us/step - loss: 0.0257 - accuracy: 0.0141 - val_loss: 0.0271 - val_accuracy: 0.0132\n",
      "Epoch 51/100\n",
      "354/354 [==============================] - 0s 130us/step - loss: 0.0255 - accuracy: 0.0113 - val_loss: 0.0273 - val_accuracy: 0.0132\n",
      "Epoch 52/100\n",
      "354/354 [==============================] - 0s 132us/step - loss: 0.0254 - accuracy: 0.0141 - val_loss: 0.0278 - val_accuracy: 0.0132\n",
      "Epoch 53/100\n",
      "354/354 [==============================] - 0s 135us/step - loss: 0.0253 - accuracy: 0.0169 - val_loss: 0.0269 - val_accuracy: 0.0132\n",
      "Epoch 54/100\n",
      "354/354 [==============================] - 0s 124us/step - loss: 0.0251 - accuracy: 0.0113 - val_loss: 0.0268 - val_accuracy: 0.0132\n",
      "Epoch 55/100\n"
     ]
    },
    {
     "name": "stdout",
     "output_type": "stream",
     "text": [
      "354/354 [==============================] - 0s 147us/step - loss: 0.0251 - accuracy: 0.0113 - val_loss: 0.0268 - val_accuracy: 0.0132\n",
      "Epoch 56/100\n",
      "354/354 [==============================] - 0s 118us/step - loss: 0.0250 - accuracy: 0.0169 - val_loss: 0.0266 - val_accuracy: 0.0132\n",
      "Epoch 57/100\n",
      "354/354 [==============================] - 0s 113us/step - loss: 0.0249 - accuracy: 0.0141 - val_loss: 0.0272 - val_accuracy: 0.0132\n",
      "Epoch 58/100\n",
      "354/354 [==============================] - 0s 121us/step - loss: 0.0248 - accuracy: 0.0141 - val_loss: 0.0269 - val_accuracy: 0.0132\n",
      "Epoch 59/100\n",
      "354/354 [==============================] - 0s 118us/step - loss: 0.0248 - accuracy: 0.0141 - val_loss: 0.0267 - val_accuracy: 0.0132\n",
      "Epoch 60/100\n",
      "354/354 [==============================] - 0s 107us/step - loss: 0.0246 - accuracy: 0.0141 - val_loss: 0.0264 - val_accuracy: 0.0132\n",
      "Epoch 61/100\n",
      "354/354 [==============================] - 0s 116us/step - loss: 0.0246 - accuracy: 0.0141 - val_loss: 0.0265 - val_accuracy: 0.0132\n",
      "Epoch 62/100\n",
      "354/354 [==============================] - 0s 121us/step - loss: 0.0243 - accuracy: 0.0141 - val_loss: 0.0265 - val_accuracy: 0.0132\n",
      "Epoch 63/100\n",
      "354/354 [==============================] - 0s 118us/step - loss: 0.0242 - accuracy: 0.0141 - val_loss: 0.0259 - val_accuracy: 0.0132\n",
      "Epoch 64/100\n",
      "354/354 [==============================] - 0s 113us/step - loss: 0.0241 - accuracy: 0.0141 - val_loss: 0.0258 - val_accuracy: 0.0132\n",
      "Epoch 65/100\n",
      "354/354 [==============================] - 0s 118us/step - loss: 0.0241 - accuracy: 0.0141 - val_loss: 0.0266 - val_accuracy: 0.0132\n",
      "Epoch 66/100\n",
      "354/354 [==============================] - 0s 121us/step - loss: 0.0241 - accuracy: 0.0141 - val_loss: 0.0255 - val_accuracy: 0.0132\n",
      "Epoch 67/100\n",
      "354/354 [==============================] - 0s 116us/step - loss: 0.0239 - accuracy: 0.0141 - val_loss: 0.0257 - val_accuracy: 0.0132\n",
      "Epoch 68/100\n",
      "354/354 [==============================] - 0s 118us/step - loss: 0.0237 - accuracy: 0.0141 - val_loss: 0.0261 - val_accuracy: 0.0132\n",
      "Epoch 69/100\n",
      "354/354 [==============================] - 0s 132us/step - loss: 0.0236 - accuracy: 0.0141 - val_loss: 0.0256 - val_accuracy: 0.0132\n",
      "Epoch 70/100\n",
      "354/354 [==============================] - 0s 130us/step - loss: 0.0237 - accuracy: 0.0141 - val_loss: 0.0252 - val_accuracy: 0.0132\n",
      "Epoch 71/100\n",
      "354/354 [==============================] - 0s 121us/step - loss: 0.0238 - accuracy: 0.0141 - val_loss: 0.0253 - val_accuracy: 0.0132\n",
      "Epoch 72/100\n",
      "354/354 [==============================] - 0s 118us/step - loss: 0.0235 - accuracy: 0.0198 - val_loss: 0.0253 - val_accuracy: 0.0132\n",
      "Epoch 73/100\n",
      "354/354 [==============================] - 0s 116us/step - loss: 0.0235 - accuracy: 0.0141 - val_loss: 0.0256 - val_accuracy: 0.0132\n",
      "Epoch 74/100\n",
      "354/354 [==============================] - 0s 127us/step - loss: 0.0233 - accuracy: 0.0226 - val_loss: 0.0250 - val_accuracy: 0.0132\n",
      "Epoch 75/100\n",
      "354/354 [==============================] - 0s 113us/step - loss: 0.0232 - accuracy: 0.0113 - val_loss: 0.0254 - val_accuracy: 0.0132\n",
      "Epoch 76/100\n",
      "354/354 [==============================] - 0s 121us/step - loss: 0.0231 - accuracy: 0.0141 - val_loss: 0.0245 - val_accuracy: 0.0132\n",
      "Epoch 77/100\n",
      "354/354 [==============================] - 0s 118us/step - loss: 0.0230 - accuracy: 0.0198 - val_loss: 0.0256 - val_accuracy: 0.0132\n",
      "Epoch 78/100\n",
      "354/354 [==============================] - 0s 110us/step - loss: 0.0230 - accuracy: 0.0169 - val_loss: 0.0255 - val_accuracy: 0.0132\n",
      "Epoch 79/100\n",
      "354/354 [==============================] - 0s 121us/step - loss: 0.0229 - accuracy: 0.0198 - val_loss: 0.0245 - val_accuracy: 0.0132\n",
      "Epoch 80/100\n",
      "354/354 [==============================] - 0s 127us/step - loss: 0.0228 - accuracy: 0.0169 - val_loss: 0.0253 - val_accuracy: 0.0132\n",
      "Epoch 81/100\n",
      "354/354 [==============================] - 0s 113us/step - loss: 0.0226 - accuracy: 0.0141 - val_loss: 0.0246 - val_accuracy: 0.0132\n",
      "Epoch 82/100\n",
      "354/354 [==============================] - 0s 113us/step - loss: 0.0229 - accuracy: 0.0141 - val_loss: 0.0243 - val_accuracy: 0.0132\n",
      "Epoch 83/100\n",
      "354/354 [==============================] - 0s 118us/step - loss: 0.0225 - accuracy: 0.0198 - val_loss: 0.0249 - val_accuracy: 0.0132\n",
      "Epoch 84/100\n",
      "354/354 [==============================] - 0s 124us/step - loss: 0.0224 - accuracy: 0.0141 - val_loss: 0.0249 - val_accuracy: 0.0132\n",
      "Epoch 85/100\n",
      "354/354 [==============================] - ETA: 0s - loss: 0.0211 - accuracy: 0.0000e+ - 0s 116us/step - loss: 0.0222 - accuracy: 0.0141 - val_loss: 0.0244 - val_accuracy: 0.0132\n",
      "Epoch 86/100\n",
      "354/354 [==============================] - 0s 118us/step - loss: 0.0223 - accuracy: 0.0169 - val_loss: 0.0245 - val_accuracy: 0.0132\n",
      "Epoch 87/100\n",
      "354/354 [==============================] - 0s 121us/step - loss: 0.0226 - accuracy: 0.0141 - val_loss: 0.0252 - val_accuracy: 0.0132\n",
      "Epoch 88/100\n",
      "354/354 [==============================] - 0s 118us/step - loss: 0.0223 - accuracy: 0.0141 - val_loss: 0.0238 - val_accuracy: 0.0132\n",
      "Epoch 89/100\n",
      "354/354 [==============================] - 0s 118us/step - loss: 0.0225 - accuracy: 0.0169 - val_loss: 0.0248 - val_accuracy: 0.0132\n",
      "Epoch 90/100\n",
      "354/354 [==============================] - 0s 118us/step - loss: 0.0221 - accuracy: 0.0169 - val_loss: 0.0242 - val_accuracy: 0.0132\n",
      "Epoch 91/100\n",
      "354/354 [==============================] - 0s 146us/step - loss: 0.0220 - accuracy: 0.0141 - val_loss: 0.0244 - val_accuracy: 0.0132\n",
      "Epoch 92/100\n",
      "354/354 [==============================] - 0s 113us/step - loss: 0.0219 - accuracy: 0.0113 - val_loss: 0.0244 - val_accuracy: 0.0132\n",
      "Epoch 93/100\n",
      "354/354 [==============================] - 0s 121us/step - loss: 0.0216 - accuracy: 0.0141 - val_loss: 0.0243 - val_accuracy: 0.0132\n",
      "Epoch 94/100\n",
      "354/354 [==============================] - 0s 124us/step - loss: 0.0220 - accuracy: 0.0169 - val_loss: 0.0244 - val_accuracy: 0.0132\n",
      "Epoch 95/100\n",
      "354/354 [==============================] - 0s 116us/step - loss: 0.0220 - accuracy: 0.0141 - val_loss: 0.0244 - val_accuracy: 0.0132\n",
      "Epoch 96/100\n",
      "354/354 [==============================] - 0s 118us/step - loss: 0.0217 - accuracy: 0.0169 - val_loss: 0.0247 - val_accuracy: 0.0132\n",
      "Epoch 97/100\n",
      "354/354 [==============================] - 0s 124us/step - loss: 0.0216 - accuracy: 0.0141 - val_loss: 0.0241 - val_accuracy: 0.0132\n",
      "Epoch 98/100\n",
      "354/354 [==============================] - 0s 121us/step - loss: 0.0214 - accuracy: 0.0169 - val_loss: 0.0245 - val_accuracy: 0.0132\n",
      "Epoch 99/100\n",
      "354/354 [==============================] - 0s 124us/step - loss: 0.0214 - accuracy: 0.0113 - val_loss: 0.0236 - val_accuracy: 0.0132\n",
      "Epoch 100/100\n",
      "354/354 [==============================] - 0s 118us/step - loss: 0.0211 - accuracy: 0.0141 - val_loss: 0.0243 - val_accuracy: 0.0132\n"
     ]
    }
   ],
   "source": [
    "boston_model_scaled = m.fit(x_train_scaled, y_train, epochs=100, batch_size=20, validation_data=(x_val_scaled,y_val))"
   ]
  },
  {
   "cell_type": "markdown",
   "metadata": {},
   "source": [
    "#### Predict the y values for the x test subset using the scaled model"
   ]
  },
  {
   "cell_type": "code",
   "execution_count": 235,
   "metadata": {},
   "outputs": [],
   "source": [
    "# Run each x_test_scaled value through the neural network. (Not using this currently but can print out the values of p_test_scaled if you want)\n",
    "p_test_scaled = m.predict(x_test_scaled).round().T\n",
    "#p_test_scaled"
   ]
  },
  {
   "cell_type": "markdown",
   "metadata": {},
   "source": [
    "#### Evaluate the scaled Model"
   ]
  },
  {
   "cell_type": "code",
   "execution_count": 236,
   "metadata": {
    "scrolled": true
   },
   "outputs": [
    {
     "name": "stdout",
     "output_type": "stream",
     "text": [
      "76/76 [==============================] - 0s 105us/step\n",
      "\n",
      "Loss is:  0.025754812516664203 \n",
      "Accuracy is:  0.05263157933950424\n"
     ]
    }
   ],
   "source": [
    "# Evaluate the prediction - The first element is the loss, the second element is the accuracy\n",
    "Eval_scaled = m.evaluate(x_test_scaled, y_test)\n",
    "\n",
    "# Print the Loss and Accuracy of the scaled model.\n",
    "print(\"\\nLoss is: \", Eval_scaled[0], \"\\nAccuracy is: \", Eval_scaled[1])"
   ]
  },
  {
   "cell_type": "markdown",
   "metadata": {},
   "source": [
    "### Determining whether Overfitting is occuring and determing the accuracy of the model (Scaled model)"
   ]
  },
  {
   "cell_type": "markdown",
   "metadata": {},
   "source": [
    "#### Graphing the training loss vs the validation loss"
   ]
  },
  {
   "cell_type": "code",
   "execution_count": 237,
   "metadata": {},
   "outputs": [
    {
     "data": {
      "image/png": "[encoded data removed]",
      "text/plain": [
       "<Figure size 432x288 with 1 Axes>"
      ]
     },
     "metadata": {
      "needs_background": "light"
     },
     "output_type": "display_data"
    }
   ],
   "source": [
    "#Adapted from: https://hackernoon.com/build-your-first-neural-network-to-predict-house-prices-with-keras-3fb0839680f4\n",
    "\n",
    "plt.plot(boston_model_scaled.history['loss'])\n",
    "plt.plot(boston_model_scaled.history['val_loss'])\n",
    "plt.title('Scaled Model loss')\n",
    "plt.ylabel('Loss')\n",
    "plt.xlabel('Epoch')\n",
    "plt.ylim(0,0.1)\n",
    "plt.legend(['Train', 'Val'], loc='upper right')\n",
    "plt.show()"
   ]
  },
  {
   "cell_type": "markdown",
   "metadata": {},
   "source": [
    "#### Accuracy of the scaled model"
   ]
  },
  {
   "cell_type": "code",
   "execution_count": 238,
   "metadata": {},
   "outputs": [
    {
     "data": {
      "image/png": "[encoded data removed]",
      "text/plain": [
       "<Figure size 432x288 with 1 Axes>"
      ]
     },
     "metadata": {
      "needs_background": "light"
     },
     "output_type": "display_data"
    }
   ],
   "source": [
    "plt.plot(boston_model_scaled.history['accuracy'])\n",
    "plt.plot(boston_model_scaled.history['val_accuracy'])\n",
    "plt.title('Scaled Model accuracy')\n",
    "plt.ylabel('Accuracy')\n",
    "plt.xlabel('Epoch')\n",
    "plt.legend(['Train', 'Val'], loc='lower right')\n",
    "plt.show()"
   ]
  },
  {
   "cell_type": "markdown",
   "metadata": {},
   "source": [
    "### Whitening the data"
   ]
  },
  {
   "cell_type": "code",
   "execution_count": 239,
   "metadata": {},
   "outputs": [],
   "source": [
    "# Understanding PCA: https://stats.stackexchange.com/questions/2691/making-sense-of-principal-component-analysis-eigenvectors-eigenvalues\n",
    "\n",
    "# Initiating the PCA transform\n",
    "pca = dec.PCA(n_components=13, whiten=True)\n",
    "pca.fit(x_train_scaled)\n",
    "\n",
    "# PCA of the the x train scaled subset\n",
    "x_white_train = pd.DataFrame(pca.transform(x_train_scaled), columns=x.columns)\n",
    "\n",
    "# PCA of the x test scaled subset\n",
    "x_white_test = pd.DataFrame(pca.transform(x_test_scaled), columns=x.columns)\n",
    "\n",
    "# PCA of the x validation scaled subset\n",
    "x_white_val = pd.DataFrame(pca.transform(x_val_scaled), columns=x.columns)"
   ]
  },
  {
   "cell_type": "markdown",
   "metadata": {},
   "source": [
    "#### Fit the whitened data to the model"
   ]
  },
  {
   "cell_type": "code",
   "execution_count": 240,
   "metadata": {},
   "outputs": [
    {
     "name": "stdout",
     "output_type": "stream",
     "text": [
      "Train on 354 samples, validate on 76 samples\n",
      "Epoch 1/100\n",
      "354/354 [==============================] - 0s 135us/step - loss: 0.1527 - accuracy: 0.0056 - val_loss: 0.0915 - val_accuracy: 0.0000e+00\n",
      "Epoch 2/100\n",
      "354/354 [==============================] - 0s 127us/step - loss: 0.1096 - accuracy: 0.0028 - val_loss: 0.0669 - val_accuracy: 0.0000e+00\n",
      "Epoch 3/100\n",
      "354/354 [==============================] - 0s 141us/step - loss: 0.0798 - accuracy: 0.0085 - val_loss: 0.0552 - val_accuracy: 0.0000e+00\n",
      "Epoch 4/100\n",
      "354/354 [==============================] - 0s 144us/step - loss: 0.0607 - accuracy: 0.0141 - val_loss: 0.0476 - val_accuracy: 0.0000e+00\n",
      "Epoch 5/100\n",
      "354/354 [==============================] - 0s 127us/step - loss: 0.0503 - accuracy: 0.0198 - val_loss: 0.0443 - val_accuracy: 0.0000e+00\n",
      "Epoch 6/100\n",
      "354/354 [==============================] - 0s 135us/step - loss: 0.0442 - accuracy: 0.0056 - val_loss: 0.0421 - val_accuracy: 0.0000e+00\n",
      "Epoch 7/100\n",
      "354/354 [==============================] - 0s 113us/step - loss: 0.0398 - accuracy: 0.0169 - val_loss: 0.0408 - val_accuracy: 0.0263\n",
      "Epoch 8/100\n",
      "354/354 [==============================] - 0s 121us/step - loss: 0.0371 - accuracy: 0.0141 - val_loss: 0.0389 - val_accuracy: 0.0132\n",
      "Epoch 9/100\n",
      "354/354 [==============================] - 0s 121us/step - loss: 0.0348 - accuracy: 0.0085 - val_loss: 0.0382 - val_accuracy: 0.0000e+00\n",
      "Epoch 10/100\n",
      "354/354 [==============================] - 0s 130us/step - loss: 0.0332 - accuracy: 0.0085 - val_loss: 0.0373 - val_accuracy: 0.0000e+00\n",
      "Epoch 11/100\n",
      "354/354 [==============================] - 0s 116us/step - loss: 0.0319 - accuracy: 0.0141 - val_loss: 0.0359 - val_accuracy: 0.0000e+00\n",
      "Epoch 12/100\n",
      "354/354 [==============================] - 0s 121us/step - loss: 0.0309 - accuracy: 0.0056 - val_loss: 0.0353 - val_accuracy: 0.0132\n",
      "Epoch 13/100\n",
      "354/354 [==============================] - 0s 116us/step - loss: 0.0303 - accuracy: 0.0085 - val_loss: 0.0346 - val_accuracy: 0.0132\n",
      "Epoch 14/100\n",
      "354/354 [==============================] - 0s 138us/step - loss: 0.0298 - accuracy: 0.0085 - val_loss: 0.0340 - val_accuracy: 0.0132\n",
      "Epoch 15/100\n",
      "354/354 [==============================] - 0s 138us/step - loss: 0.0290 - accuracy: 0.0141 - val_loss: 0.0335 - val_accuracy: 0.0132\n",
      "Epoch 16/100\n",
      "354/354 [==============================] - 0s 141us/step - loss: 0.0286 - accuracy: 0.0141 - val_loss: 0.0333 - val_accuracy: 0.0132\n",
      "Epoch 17/100\n",
      "354/354 [==============================] - 0s 116us/step - loss: 0.0280 - accuracy: 0.0141 - val_loss: 0.0323 - val_accuracy: 0.0132\n",
      "Epoch 18/100\n",
      "354/354 [==============================] - 0s 127us/step - loss: 0.0275 - accuracy: 0.0141 - val_loss: 0.0326 - val_accuracy: 0.0132\n",
      "Epoch 19/100\n",
      "354/354 [==============================] - 0s 127us/step - loss: 0.0271 - accuracy: 0.0169 - val_loss: 0.0316 - val_accuracy: 0.0132\n",
      "Epoch 20/100\n",
      "354/354 [==============================] - 0s 132us/step - loss: 0.0275 - accuracy: 0.0141 - val_loss: 0.0323 - val_accuracy: 0.0000e+00\n",
      "Epoch 21/100\n",
      "354/354 [==============================] - 0s 127us/step - loss: 0.0267 - accuracy: 0.0113 - val_loss: 0.0312 - val_accuracy: 0.0132\n",
      "Epoch 22/100\n",
      "354/354 [==============================] - 0s 132us/step - loss: 0.0264 - accuracy: 0.0141 - val_loss: 0.0311 - val_accuracy: 0.0132\n",
      "Epoch 23/100\n",
      "354/354 [==============================] - 0s 124us/step - loss: 0.0259 - accuracy: 0.0113 - val_loss: 0.0310 - val_accuracy: 0.0132\n",
      "Epoch 24/100\n",
      "354/354 [==============================] - 0s 127us/step - loss: 0.0256 - accuracy: 0.0226 - val_loss: 0.0303 - val_accuracy: 0.0132\n",
      "Epoch 25/100\n",
      "354/354 [==============================] - 0s 116us/step - loss: 0.0255 - accuracy: 0.0198 - val_loss: 0.0306 - val_accuracy: 0.0132\n",
      "Epoch 26/100\n",
      "354/354 [==============================] - 0s 130us/step - loss: 0.0251 - accuracy: 0.0141 - val_loss: 0.0309 - val_accuracy: 0.0132\n",
      "Epoch 27/100\n",
      "354/354 [==============================] - 0s 152us/step - loss: 0.0251 - accuracy: 0.0169 - val_loss: 0.0300 - val_accuracy: 0.0132\n",
      "Epoch 28/100\n",
      "354/354 [==============================] - 0s 127us/step - loss: 0.0247 - accuracy: 0.0141 - val_loss: 0.0301 - val_accuracy: 0.0132\n",
      "Epoch 29/100\n",
      "354/354 [==============================] - 0s 130us/step - loss: 0.0246 - accuracy: 0.0169 - val_loss: 0.0296 - val_accuracy: 0.0132\n",
      "Epoch 30/100\n",
      "354/354 [==============================] - 0s 135us/step - loss: 0.0241 - accuracy: 0.0113 - val_loss: 0.0301 - val_accuracy: 0.0132\n",
      "Epoch 31/100\n",
      "354/354 [==============================] - 0s 124us/step - loss: 0.0239 - accuracy: 0.0254 - val_loss: 0.0292 - val_accuracy: 0.0132\n",
      "Epoch 32/100\n",
      "354/354 [==============================] - 0s 121us/step - loss: 0.0245 - accuracy: 0.0141 - val_loss: 0.0302 - val_accuracy: 0.0132\n",
      "Epoch 33/100\n",
      "354/354 [==============================] - 0s 116us/step - loss: 0.0237 - accuracy: 0.0169 - val_loss: 0.0290 - val_accuracy: 0.0132\n",
      "Epoch 34/100\n",
      "354/354 [==============================] - 0s 132us/step - loss: 0.0233 - accuracy: 0.0226 - val_loss: 0.0296 - val_accuracy: 0.0132\n",
      "Epoch 35/100\n",
      "354/354 [==============================] - 0s 141us/step - loss: 0.0230 - accuracy: 0.0113 - val_loss: 0.0292 - val_accuracy: 0.0132\n",
      "Epoch 36/100\n",
      "354/354 [==============================] - 0s 118us/step - loss: 0.0228 - accuracy: 0.0198 - val_loss: 0.0290 - val_accuracy: 0.0132\n",
      "Epoch 37/100\n",
      "354/354 [==============================] - 0s 163us/step - loss: 0.0226 - accuracy: 0.0254 - val_loss: 0.0283 - val_accuracy: 0.0132\n",
      "Epoch 38/100\n",
      "354/354 [==============================] - 0s 118us/step - loss: 0.0224 - accuracy: 0.0141 - val_loss: 0.0285 - val_accuracy: 0.0132\n",
      "Epoch 39/100\n",
      "354/354 [==============================] - 0s 113us/step - loss: 0.0221 - accuracy: 0.0113 - val_loss: 0.0290 - val_accuracy: 0.0132\n",
      "Epoch 40/100\n",
      "354/354 [==============================] - 0s 127us/step - loss: 0.0223 - accuracy: 0.0254 - val_loss: 0.0285 - val_accuracy: 0.0132\n",
      "Epoch 41/100\n",
      "354/354 [==============================] - 0s 124us/step - loss: 0.0219 - accuracy: 0.0226 - val_loss: 0.0286 - val_accuracy: 0.0132\n",
      "Epoch 42/100\n",
      "354/354 [==============================] - 0s 130us/step - loss: 0.0219 - accuracy: 0.0169 - val_loss: 0.0290 - val_accuracy: 0.0132\n",
      "Epoch 43/100\n",
      "354/354 [==============================] - 0s 116us/step - loss: 0.0215 - accuracy: 0.0226 - val_loss: 0.0284 - val_accuracy: 0.0132\n",
      "Epoch 44/100\n",
      "354/354 [==============================] - 0s 116us/step - loss: 0.0214 - accuracy: 0.0198 - val_loss: 0.0283 - val_accuracy: 0.0000e+00\n",
      "Epoch 45/100\n",
      "354/354 [==============================] - 0s 127us/step - loss: 0.0212 - accuracy: 0.0198 - val_loss: 0.0282 - val_accuracy: 0.0000e+00\n",
      "Epoch 46/100\n",
      "354/354 [==============================] - 0s 124us/step - loss: 0.0211 - accuracy: 0.0198 - val_loss: 0.0282 - val_accuracy: 0.0000e+00\n",
      "Epoch 47/100\n",
      "354/354 [==============================] - 0s 141us/step - loss: 0.0210 - accuracy: 0.0226 - val_loss: 0.0285 - val_accuracy: 0.0132\n",
      "Epoch 48/100\n",
      "354/354 [==============================] - 0s 127us/step - loss: 0.0206 - accuracy: 0.0254 - val_loss: 0.0280 - val_accuracy: 0.0000e+00\n",
      "Epoch 49/100\n",
      "354/354 [==============================] - 0s 118us/step - loss: 0.0207 - accuracy: 0.0226 - val_loss: 0.0281 - val_accuracy: 0.0000e+00\n",
      "Epoch 50/100\n",
      "354/354 [==============================] - 0s 132us/step - loss: 0.0205 - accuracy: 0.0169 - val_loss: 0.0282 - val_accuracy: 0.0000e+00\n",
      "Epoch 51/100\n",
      "354/354 [==============================] - 0s 118us/step - loss: 0.0203 - accuracy: 0.0226 - val_loss: 0.0281 - val_accuracy: 0.0000e+00\n",
      "Epoch 52/100\n",
      "354/354 [==============================] - 0s 113us/step - loss: 0.0202 - accuracy: 0.0198 - val_loss: 0.0282 - val_accuracy: 0.0000e+00\n",
      "Epoch 53/100\n",
      "354/354 [==============================] - 0s 132us/step - loss: 0.0201 - accuracy: 0.0254 - val_loss: 0.0286 - val_accuracy: 0.0000e+00\n",
      "Epoch 54/100\n",
      "354/354 [==============================] - 0s 124us/step - loss: 0.0199 - accuracy: 0.0226 - val_loss: 0.0279 - val_accuracy: 0.0000e+00\n",
      "Epoch 55/100\n",
      "354/354 [==============================] - 0s 124us/step - loss: 0.0200 - accuracy: 0.0282 - val_loss: 0.0287 - val_accuracy: 0.0000e+00\n",
      "Epoch 56/100\n"
     ]
    },
    {
     "name": "stdout",
     "output_type": "stream",
     "text": [
      "354/354 [==============================] - 0s 135us/step - loss: 0.0200 - accuracy: 0.0198 - val_loss: 0.0276 - val_accuracy: 0.0000e+00\n",
      "Epoch 57/100\n",
      "354/354 [==============================] - 0s 130us/step - loss: 0.0196 - accuracy: 0.0226 - val_loss: 0.0288 - val_accuracy: 0.0000e+00\n",
      "Epoch 58/100\n",
      "354/354 [==============================] - 0s 132us/step - loss: 0.0194 - accuracy: 0.0198 - val_loss: 0.0280 - val_accuracy: 0.0000e+00\n",
      "Epoch 59/100\n",
      "354/354 [==============================] - 0s 149us/step - loss: 0.0193 - accuracy: 0.0282 - val_loss: 0.0276 - val_accuracy: 0.0000e+00\n",
      "Epoch 60/100\n",
      "354/354 [==============================] - 0s 149us/step - loss: 0.0192 - accuracy: 0.0254 - val_loss: 0.0277 - val_accuracy: 0.0000e+00\n",
      "Epoch 61/100\n",
      "354/354 [==============================] - 0s 158us/step - loss: 0.0192 - accuracy: 0.0254 - val_loss: 0.0278 - val_accuracy: 0.0000e+00\n",
      "Epoch 62/100\n",
      "354/354 [==============================] - 0s 149us/step - loss: 0.0189 - accuracy: 0.0254 - val_loss: 0.0280 - val_accuracy: 0.0000e+00\n",
      "Epoch 63/100\n",
      "354/354 [==============================] - 0s 161us/step - loss: 0.0189 - accuracy: 0.0226 - val_loss: 0.0274 - val_accuracy: 0.0000e+00\n",
      "Epoch 64/100\n",
      "354/354 [==============================] - 0s 149us/step - loss: 0.0190 - accuracy: 0.0198 - val_loss: 0.0275 - val_accuracy: 0.0000e+00\n",
      "Epoch 65/100\n",
      "354/354 [==============================] - 0s 116us/step - loss: 0.0191 - accuracy: 0.0169 - val_loss: 0.0274 - val_accuracy: 0.0000e+00\n",
      "Epoch 66/100\n",
      "354/354 [==============================] - 0s 127us/step - loss: 0.0190 - accuracy: 0.0198 - val_loss: 0.0280 - val_accuracy: 0.0000e+00\n",
      "Epoch 67/100\n",
      "354/354 [==============================] - 0s 132us/step - loss: 0.0184 - accuracy: 0.0254 - val_loss: 0.0273 - val_accuracy: 0.0000e+00\n",
      "Epoch 68/100\n",
      "354/354 [==============================] - 0s 130us/step - loss: 0.0184 - accuracy: 0.0254 - val_loss: 0.0284 - val_accuracy: 0.0000e+00\n",
      "Epoch 69/100\n",
      "354/354 [==============================] - 0s 135us/step - loss: 0.0182 - accuracy: 0.0282 - val_loss: 0.0274 - val_accuracy: 0.0000e+00\n",
      "Epoch 70/100\n",
      "354/354 [==============================] - 0s 124us/step - loss: 0.0183 - accuracy: 0.0254 - val_loss: 0.0277 - val_accuracy: 0.0000e+00\n",
      "Epoch 71/100\n",
      "354/354 [==============================] - 0s 116us/step - loss: 0.0181 - accuracy: 0.0254 - val_loss: 0.0279 - val_accuracy: 0.0000e+00\n",
      "Epoch 72/100\n",
      "354/354 [==============================] - 0s 107us/step - loss: 0.0183 - accuracy: 0.0226 - val_loss: 0.0272 - val_accuracy: 0.0000e+00\n",
      "Epoch 73/100\n",
      "354/354 [==============================] - 0s 124us/step - loss: 0.0183 - accuracy: 0.0198 - val_loss: 0.0271 - val_accuracy: 0.0000e+00\n",
      "Epoch 74/100\n",
      "354/354 [==============================] - 0s 116us/step - loss: 0.0180 - accuracy: 0.0254 - val_loss: 0.0276 - val_accuracy: 0.0000e+00\n",
      "Epoch 75/100\n",
      "354/354 [==============================] - 0s 110us/step - loss: 0.0178 - accuracy: 0.0254 - val_loss: 0.0275 - val_accuracy: 0.0000e+00\n",
      "Epoch 76/100\n",
      "354/354 [==============================] - 0s 121us/step - loss: 0.0179 - accuracy: 0.0198 - val_loss: 0.0276 - val_accuracy: 0.0000e+00\n",
      "Epoch 77/100\n",
      "354/354 [==============================] - 0s 130us/step - loss: 0.0178 - accuracy: 0.0254 - val_loss: 0.0274 - val_accuracy: 0.0000e+00\n",
      "Epoch 78/100\n",
      "354/354 [==============================] - 0s 110us/step - loss: 0.0176 - accuracy: 0.0226 - val_loss: 0.0276 - val_accuracy: 0.0000e+00\n",
      "Epoch 79/100\n",
      "354/354 [==============================] - 0s 113us/step - loss: 0.0177 - accuracy: 0.0226 - val_loss: 0.0279 - val_accuracy: 0.0000e+00\n",
      "Epoch 80/100\n",
      "354/354 [==============================] - 0s 113us/step - loss: 0.0177 - accuracy: 0.0254 - val_loss: 0.0281 - val_accuracy: 0.0000e+00\n",
      "Epoch 81/100\n",
      "354/354 [==============================] - 0s 132us/step - loss: 0.0177 - accuracy: 0.0254 - val_loss: 0.0269 - val_accuracy: 0.0000e+00\n",
      "Epoch 82/100\n",
      "354/354 [==============================] - 0s 138us/step - loss: 0.0173 - accuracy: 0.0198 - val_loss: 0.0275 - val_accuracy: 0.0000e+00\n",
      "Epoch 83/100\n",
      "354/354 [==============================] - 0s 135us/step - loss: 0.0175 - accuracy: 0.0198 - val_loss: 0.0276 - val_accuracy: 0.0000e+00\n",
      "Epoch 84/100\n",
      "354/354 [==============================] - 0s 116us/step - loss: 0.0174 - accuracy: 0.0226 - val_loss: 0.0274 - val_accuracy: 0.0000e+00\n",
      "Epoch 85/100\n",
      "354/354 [==============================] - 0s 121us/step - loss: 0.0173 - accuracy: 0.0226 - val_loss: 0.0279 - val_accuracy: 0.0000e+00\n",
      "Epoch 86/100\n",
      "354/354 [==============================] - 0s 116us/step - loss: 0.0174 - accuracy: 0.0198 - val_loss: 0.0275 - val_accuracy: 0.0000e+00\n",
      "Epoch 87/100\n",
      "354/354 [==============================] - 0s 107us/step - loss: 0.0176 - accuracy: 0.0226 - val_loss: 0.0272 - val_accuracy: 0.0000e+00\n",
      "Epoch 88/100\n",
      "354/354 [==============================] - 0s 127us/step - loss: 0.0172 - accuracy: 0.0141 - val_loss: 0.0278 - val_accuracy: 0.0000e+00\n",
      "Epoch 89/100\n",
      "354/354 [==============================] - 0s 121us/step - loss: 0.0171 - accuracy: 0.0226 - val_loss: 0.0276 - val_accuracy: 0.0000e+00\n",
      "Epoch 90/100\n",
      "354/354 [==============================] - 0s 116us/step - loss: 0.0169 - accuracy: 0.0226 - val_loss: 0.0273 - val_accuracy: 0.0000e+00\n",
      "Epoch 91/100\n",
      "354/354 [==============================] - 0s 113us/step - loss: 0.0170 - accuracy: 0.0226 - val_loss: 0.0270 - val_accuracy: 0.0000e+00\n",
      "Epoch 92/100\n",
      "354/354 [==============================] - 0s 130us/step - loss: 0.0168 - accuracy: 0.0198 - val_loss: 0.0268 - val_accuracy: 0.0000e+00\n",
      "Epoch 93/100\n",
      "354/354 [==============================] - 0s 124us/step - loss: 0.0175 - accuracy: 0.0226 - val_loss: 0.0272 - val_accuracy: 0.0000e+00\n",
      "Epoch 94/100\n",
      "354/354 [==============================] - 0s 113us/step - loss: 0.0167 - accuracy: 0.0169 - val_loss: 0.0281 - val_accuracy: 0.0000e+00\n",
      "Epoch 95/100\n",
      "354/354 [==============================] - 0s 110us/step - loss: 0.0169 - accuracy: 0.0226 - val_loss: 0.0279 - val_accuracy: 0.0000e+00\n",
      "Epoch 96/100\n",
      "354/354 [==============================] - 0s 116us/step - loss: 0.0167 - accuracy: 0.0226 - val_loss: 0.0269 - val_accuracy: 0.0000e+00\n",
      "Epoch 97/100\n",
      "354/354 [==============================] - 0s 113us/step - loss: 0.0166 - accuracy: 0.0198 - val_loss: 0.0271 - val_accuracy: 0.0000e+00\n",
      "Epoch 98/100\n",
      "354/354 [==============================] - 0s 121us/step - loss: 0.0167 - accuracy: 0.0085 - val_loss: 0.0267 - val_accuracy: 0.0000e+00\n",
      "Epoch 99/100\n",
      "354/354 [==============================] - 0s 130us/step - loss: 0.0166 - accuracy: 0.0141 - val_loss: 0.0289 - val_accuracy: 0.0000e+00\n",
      "Epoch 100/100\n",
      "354/354 [==============================] - 0s 121us/step - loss: 0.0169 - accuracy: 0.0141 - val_loss: 0.0269 - val_accuracy: 0.0000e+00\n"
     ]
    }
   ],
   "source": [
    "boston_model_white = m.fit(x_white_train, y_train, epochs=100, batch_size=20, validation_data=(x_white_val,y_val))"
   ]
  },
  {
   "cell_type": "markdown",
   "metadata": {},
   "source": [
    "#### Predict the the values of the test set using the scaled and whitened model"
   ]
  },
  {
   "cell_type": "code",
   "execution_count": 241,
   "metadata": {
    "scrolled": true
   },
   "outputs": [
    {
     "data": {
      "text/plain": [
       "array([[19., 13., 12., 18., 44., 20., 17., 20.,  7., 17., 29., 19., 17.,\n",
       "        34., 22., 16., 20., 25., 15.,  6., 45., 31., 20., 25., 19., 21.,\n",
       "        26., 27., 16., 26., 18., 22., 22., 11., 25., 20., 32., 16., 17.,\n",
       "        20., 47., 23., 17., 16., 14., 27., 15., 11., 15., 25., 18.,  7.,\n",
       "        12., 25., 28., 19., 21., 24., 21., 31., 12., 27.,  6., 20., 21.,\n",
       "         6., 25., 26., 12., 31., 16., 16., 16., 24.,  9., 11.]],\n",
       "      dtype=float32)"
      ]
     },
     "execution_count": 241,
     "metadata": {},
     "output_type": "execute_result"
    }
   ],
   "source": [
    "# Run each x_test_scaled value through the neural network. (Not using this currently but can print out the values of p_test_scaled_whitened if you want)\n",
    "p_test_scaled_whitened = m.predict(x_white_test).round().T\n",
    "p_test_scaled_whitened\n",
    "#y_test"
   ]
  },
  {
   "cell_type": "code",
   "execution_count": 246,
   "metadata": {},
   "outputs": [
    {
     "data": {
      "text/plain": [
       "244    18.0\n",
       "441    17.0\n",
       "436    10.0\n",
       "474    14.0\n",
       "195    50.0\n",
       "124    19.0\n",
       "316    18.0\n",
       "132    23.0\n",
       "418     9.0\n",
       "18     20.0\n",
       "194    29.0\n",
       "470    20.0\n",
       "346    17.0\n",
       "281    35.0\n",
       "338    21.0\n",
       "491    14.0\n",
       "336    20.0\n",
       "42     25.0\n",
       "23     14.0\n",
       "398     5.0\n",
       "203    48.0\n",
       "229    32.0\n",
       "104    20.0\n",
       "90     23.0\n",
       "131    20.0\n",
       "66     19.0\n",
       "101    26.0\n",
       "70     24.0\n",
       "390    15.0\n",
       "371    50.0\n",
       "       ... \n",
       "154    17.0\n",
       "477    12.0\n",
       "33     13.0\n",
       "329    23.0\n",
       "19     18.0\n",
       "417    10.0\n",
       "411    17.0\n",
       "82     25.0\n",
       "234    29.0\n",
       "9      19.0\n",
       "210    22.0\n",
       "320    24.0\n",
       "46     20.0\n",
       "481    24.0\n",
       "155    16.0\n",
       "93     25.0\n",
       "414     7.0\n",
       "78     21.0\n",
       "76     20.0\n",
       "404     8.0\n",
       "324    25.0\n",
       "238    24.0\n",
       "489     7.0\n",
       "227    32.0\n",
       "395    13.0\n",
       "452    16.0\n",
       "153    19.0\n",
       "501    22.0\n",
       "444    11.0\n",
       "423    13.0\n",
       "Name: PRICE, Length: 76, dtype: float64"
      ]
     },
     "execution_count": 246,
     "metadata": {},
     "output_type": "execute_result"
    }
   ],
   "source": [
    "y_test.round()"
   ]
  },
  {
   "cell_type": "markdown",
   "metadata": {},
   "source": [
    "#### Evaluate the whitened model"
   ]
  },
  {
   "cell_type": "code",
   "execution_count": 247,
   "metadata": {},
   "outputs": [
    {
     "name": "stdout",
     "output_type": "stream",
     "text": [
      "76/76 [==============================] - 0s 131us/step\n",
      "\n",
      "Loss is:  0.023516731042610973 \n",
      "Accuracy is:  0.01315789483487606\n"
     ]
    }
   ],
   "source": [
    "# Evaluate the prediction - The first element is the loss, the second element is the accuracy\n",
    "Eval_white = m.evaluate(x_white_test, y_test)\n",
    "\n",
    "# Print the Loss and Accuracy of the scaled model.\n",
    "print(\"\\nLoss is: \", Eval_white[0], \"\\nAccuracy is: \", Eval_white[1])\n"
   ]
  },
  {
   "cell_type": "markdown",
   "metadata": {},
   "source": [
    "### Determining whether Overfitting is occuring and determing the accuracy of the model (Scaled & Whitened  model)"
   ]
  },
  {
   "cell_type": "markdown",
   "metadata": {},
   "source": [
    "#### Graphing the training loss vs the validation loss"
   ]
  },
  {
   "cell_type": "code",
   "execution_count": 248,
   "metadata": {},
   "outputs": [
    {
     "data": {
      "image/png": "[encoded data removed]",
      "text/plain": [
       "<Figure size 432x288 with 1 Axes>"
      ]
     },
     "metadata": {
      "needs_background": "light"
     },
     "output_type": "display_data"
    }
   ],
   "source": [
    "#Adapted from: https://hackernoon.com/build-your-first-neural-network-to-predict-house-prices-with-keras-3fb0839680f4\n",
    "\n",
    "plt.plot(boston_model_white.history['loss'])\n",
    "plt.plot(boston_model_white.history['val_loss'])\n",
    "plt.title('Whitened Model loss')\n",
    "plt.ylabel('Loss')\n",
    "plt.xlabel('Epoch')\n",
    "plt.ylim(0,0.1)\n",
    "plt.legend(['Train', 'Val'], loc='upper right')\n",
    "plt.show()"
   ]
  },
  {
   "cell_type": "markdown",
   "metadata": {},
   "source": [
    "#### Accuracy of the whitened model"
   ]
  },
  {
   "cell_type": "code",
   "execution_count": 249,
   "metadata": {},
   "outputs": [
    {
     "data": {
      "image/png": "[encoded data removed]",
      "text/plain": [
       "<Figure size 432x288 with 1 Axes>"
      ]
     },
     "metadata": {
      "needs_background": "light"
     },
     "output_type": "display_data"
    }
   ],
   "source": [
    "plt.plot(boston_model_white.history['accuracy'])\n",
    "plt.plot(boston_model_white.history['val_accuracy'])\n",
    "plt.title('Whitened Model accuracy')\n",
    "plt.ylabel('Accuracy')\n",
    "plt.xlabel('Epoch')\n",
    "plt.legend(['Train', 'Val'], loc='lower right')\n",
    "plt.show()"
   ]
  },
  {
   "cell_type": "code",
   "execution_count": null,
   "metadata": {},
   "outputs": [],
   "source": []
  },
  {
   "cell_type": "code",
   "execution_count": null,
   "metadata": {},
   "outputs": [],
   "source": []
  }
 ],
 "metadata": {
  "kernelspec": {
   "display_name": "Python 3",
   "language": "python",
   "name": "python3"
  },
  "language_info": {
   "codemirror_mode": {
    "name": "ipython",
    "version": 3
   },
   "file_extension": ".py",
   "mimetype": "text/x-python",
   "name": "python",
   "nbconvert_exporter": "python",
   "pygments_lexer": "ipython3",
   "version": "3.7.3"
  }
 },
 "nbformat": 4,
 "nbformat_minor": 2
}
