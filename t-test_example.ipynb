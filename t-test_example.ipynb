{
 "cells": [
  {
   "cell_type": "code",
   "execution_count": 1,
   "metadata": {},
   "outputs": [],
   "source": [
    "import scipy.stats as ss\n",
    "import numpy as np"
   ]
  },
  {
   "cell_type": "code",
   "execution_count": 6,
   "metadata": {},
   "outputs": [
    {
     "data": {
      "text/plain": [
       "array([1.72654768, 1.8220282 , 1.96154141, 1.91352905, 1.84587137,\n",
       "       1.83775567, 1.75067105, 1.85985484, 1.78832299, 1.79331459,\n",
       "       1.89552265, 1.65280547, 1.64899242, 1.66650914, 1.84231535,\n",
       "       1.80690176, 1.78826205, 1.73822445, 1.91612305, 1.68978794,\n",
       "       1.83339143, 1.76772475, 1.78837893, 1.57030149, 1.79109061,\n",
       "       2.03117625, 1.7564894 , 1.74514815, 1.97694767, 1.91758155])"
      ]
     },
     "execution_count": 6,
     "metadata": {},
     "output_type": "execute_result"
    }
   ],
   "source": [
    "m = np.random.normal(1.8,0.1,30)\n",
    "m"
   ]
  },
  {
   "cell_type": "code",
   "execution_count": 7,
   "metadata": {},
   "outputs": [
    {
     "data": {
      "text/plain": [
       "array([1.78381606, 1.6257536 , 1.60030413, 1.68311055, 1.51251049,\n",
       "       1.53540708, 1.65409541, 1.61475942, 1.55631405, 1.66435926,\n",
       "       1.60363064, 1.81301443, 1.53935169, 1.50293357, 1.55897086,\n",
       "       1.68432359, 1.67506052, 1.61890474, 1.51298419, 1.62755337,\n",
       "       1.58375284, 1.48908838, 1.5985446 , 1.61769931, 1.56778069,\n",
       "       1.62291711, 1.60067417, 1.64063731, 1.56502555, 1.58036837])"
      ]
     },
     "execution_count": 7,
     "metadata": {},
     "output_type": "execute_result"
    }
   ],
   "source": [
    "f = np.random.normal(1.6,0.1,30)\n",
    "f"
   ]
  },
  {
   "cell_type": "code",
   "execution_count": 5,
   "metadata": {},
   "outputs": [
    {
     "data": {
      "text/plain": [
       "Ttest_indResult(statistic=7.340540388498056, pvalue=7.847329500262621e-10)"
      ]
     },
     "execution_count": 5,
     "metadata": {},
     "output_type": "execute_result"
    }
   ],
   "source": [
    "ss.ttest_ind(m,f)"
   ]
  },
  {
   "cell_type": "code",
   "execution_count": null,
   "metadata": {},
   "outputs": [],
   "source": []
  }
 ],
 "metadata": {
  "kernelspec": {
   "display_name": "Python 3",
   "language": "python",
   "name": "python3"
  },
  "language_info": {
   "codemirror_mode": {
    "name": "ipython",
    "version": 3
   },
   "file_extension": ".py",
   "mimetype": "text/x-python",
   "name": "python",
   "nbconvert_exporter": "python",
   "pygments_lexer": "ipython3",
   "version": "3.7.3"
  }
 },
 "nbformat": 4,
 "nbformat_minor": 2
}
